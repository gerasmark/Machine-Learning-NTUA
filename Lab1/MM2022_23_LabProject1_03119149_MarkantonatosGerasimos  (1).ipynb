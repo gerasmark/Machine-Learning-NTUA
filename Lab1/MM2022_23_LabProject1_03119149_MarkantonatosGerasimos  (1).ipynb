{
  "nbformat": 4,
  "nbformat_minor": 0,
  "metadata": {
    "colab": {
      "provenance": []
    },
    "kernelspec": {
      "name": "python3",
      "display_name": "Python 3"
    },
    "language_info": {
      "name": "python"
    }
  },
  "cells": [
    {
      "cell_type": "markdown",
      "source": [
        "###Μηχανική Μάθηση \n",
        "####1η ατομική εργασία \n",
        "ΣΗΜΜΥ- ΕΜΠ - 7ο εξάμηνο -Ακ. Έτος 2022-23\n",
        "\n"
      ],
      "metadata": {
        "id": "Dv7UKdyCAnqD"
      }
    },
    {
      "cell_type": "markdown",
      "source": [
        "# ⚠️\n",
        "`Επισημαίνεται ότι απαγορεύεται η ανάρτηση των λύσεων των εργαστηριακών ασκήσεων στο github, ή σε άλλες ιστοσελίδες. Η σχεδίαση και το περιεχόμενο των εργαστηριακών projects αποτελούν αντικείμενο πνευματικής ιδιοκτησίας της διδακτικής ομάδας του μαθήματος.`"
      ],
      "metadata": {
        "id": "hL5bHZx06KZc"
      }
    },
    {
      "cell_type": "markdown",
      "source": [
        " `⚠️  Το σύνολο δεδομένων που σας δόθηκε δεν πρέπει να εμπλουτισθεί με οποιοδήποτε τρόπο. Η εργασία στην οποία θα χρησιμοποιηθεί εμπλουτισμένο σύνολο δεδομένων, δεν θα διορθωθεί.`"
      ],
      "metadata": {
        "id": "vqmQiAojwM3Z"
      }
    },
    {
      "cell_type": "markdown",
      "source": [
        "Ονοματεπώνυμο φοιτητή: Γεράσιμος Μαρκαντωνάτος\n",
        "\n",
        "Α.Μ.: 03119149"
      ],
      "metadata": {
        "id": "oAx-ib_pBrq9"
      }
    },
    {
      "cell_type": "markdown",
      "source": [
        "### 1. Εισαγωγή συνόλου δεδομένων\n",
        "\n",
        "Tο σύνολο δεδομένων για το training-validation μπορείτε να το κατεβάσετε από [εδώ](https://drive.google.com/file/d/1-L7QQEfLWCsqiBClxUlg4yzquf1G_Ga-/view?usp=sharing) και για το testing από [εδώ](https://drive.google.com/file/d/1-6l-NL3wwKGKJpVjxjUrOdFbcnKo-PwW/view?usp=sharing).\n",
        "\n"
      ],
      "metadata": {
        "id": "M7IkqlgaGLr2"
      }
    },
    {
      "cell_type": "markdown",
      "source": [
        "1.α. Φορτώστε το σύνολο δεδομένων \"train-val.csv\"  στο notebook σας."
      ],
      "metadata": {
        "id": "Qe4uFFcv9XF3"
      }
    },
    {
      "cell_type": "code",
      "source": [
        "import pandas as pd\n",
        "train_val = pd.read_csv(r'train-val.csv')\n",
        "print (train_val)"
      ],
      "metadata": {
        "id": "fbQtw6iYBrJk",
        "colab": {
          "base_uri": "https://localhost:8080/"
        },
        "outputId": "c19ca58d-92a6-42a8-e180-79bd17ec9377"
      },
      "execution_count": 1,
      "outputs": [
        {
          "output_type": "stream",
          "name": "stdout",
          "text": [
            "          id        Date Location  MinTemp  MaxTemp  Rainfall  Evaporation  \\\n",
            "0          1  2009-03-04   Albury     13.8     22.1       0.2          NaN   \n",
            "1          2  2009-03-05   Albury     11.5     22.0       0.0          NaN   \n",
            "2          3  2009-03-09   Albury     13.8     31.8       0.0          NaN   \n",
            "3          4  2009-03-10   Albury     15.5     32.0       0.0          NaN   \n",
            "4          5  2009-03-11   Albury     18.4     30.5       1.2          NaN   \n",
            "...      ...         ...      ...      ...      ...       ...          ...   \n",
            "48418  48419  2017-06-12    Uluru      5.1     19.7       0.0          NaN   \n",
            "48419  48420  2017-06-16    Uluru      5.2     24.3       0.0          NaN   \n",
            "48420  48421  2017-06-20    Uluru      3.5     21.8       0.0          NaN   \n",
            "48421  48422  2017-06-23    Uluru      5.4     26.9       0.0          NaN   \n",
            "48422  48423  2017-06-24    Uluru      7.8     27.0       0.0          NaN   \n",
            "\n",
            "       Sunshine WindGustDir  WindGustSpeed  ... Humidity9am Humidity3pm  \\\n",
            "0           NaN         WNW           57.0  ...        57.0        26.0   \n",
            "1           NaN          SW           50.0  ...        60.0        33.0   \n",
            "2           NaN         NNE           24.0  ...        49.0        28.0   \n",
            "3           NaN          NE           50.0  ...        51.0        25.0   \n",
            "4           NaN          NE           44.0  ...        57.0        23.0   \n",
            "...         ...         ...            ...  ...         ...         ...   \n",
            "48418       NaN           E           46.0  ...        56.0        29.0   \n",
            "48419       NaN           E           24.0  ...        53.0        24.0   \n",
            "48420       NaN           E           31.0  ...        59.0        27.0   \n",
            "48421       NaN           N           37.0  ...        53.0        24.0   \n",
            "48422       NaN          SE           28.0  ...        51.0        24.0   \n",
            "\n",
            "       Pressure9am  Pressure3pm  Cloud9am  Cloud3pm  Temp9am  Temp3pm  \\\n",
            "0           1014.5       1013.1       NaN       NaN     15.6     21.9   \n",
            "1           1013.7       1011.8       NaN       NaN     13.9     21.4   \n",
            "2           1019.7       1015.9       NaN       NaN     18.6     30.5   \n",
            "3           1019.5       1016.2       NaN       NaN     20.1     30.8   \n",
            "4           1021.3       1018.0       NaN       NaN     21.5     29.6   \n",
            "...            ...          ...       ...       ...      ...      ...   \n",
            "48418       1028.5       1025.8       NaN       NaN      8.5     19.2   \n",
            "48419       1023.8       1020.0       NaN       NaN     12.3     23.3   \n",
            "48420       1024.7       1021.2       NaN       NaN      9.4     20.9   \n",
            "48421       1021.0       1016.8       NaN       NaN     12.5     26.1   \n",
            "48422       1019.4       1016.5       3.0       2.0     15.1     26.0   \n",
            "\n",
            "       RainToday  RainTomorrow  \n",
            "0            0.0           0.0  \n",
            "1            0.0           0.0  \n",
            "2            0.0           0.0  \n",
            "3            0.0           1.0  \n",
            "4            1.0           0.0  \n",
            "...          ...           ...  \n",
            "48418        0.0           0.0  \n",
            "48419        0.0           0.0  \n",
            "48420        0.0           0.0  \n",
            "48421        0.0           0.0  \n",
            "48422        0.0           0.0  \n",
            "\n",
            "[48423 rows x 24 columns]\n"
          ]
        }
      ]
    },
    {
      "cell_type": "markdown",
      "source": [
        "1.β. Φορτώστε το σύνολο δεδομένων \"test.csv\" στο notebook σας"
      ],
      "metadata": {
        "id": "lSlCmshW9ZfS"
      }
    },
    {
      "cell_type": "code",
      "source": [
        "test = pd.read_csv(r'test.csv')"
      ],
      "metadata": {
        "id": "zRabPOXI9iAi"
      },
      "execution_count": 2,
      "outputs": []
    },
    {
      "cell_type": "markdown",
      "source": [
        "### 2. Διερευνητική ανάλυση δεδομένων -Exploratory Data Analysis (EDA) \n",
        "Χρησιμοποιήστε code cells  με τις κατάλληλες τεχνικές EDA για την κατανόηση του συνόλου δεδομένων και text cells για επεξήγηση των αποτελεσμάτων. "
      ],
      "metadata": {
        "id": "wrxF1hO1HPpJ"
      }
    },
    {
      "cell_type": "markdown",
      "source": [
        "Χρησιμοποιώντας τις κατάλληλες μεθόδους παρουσιάστε με χρήση κώδικα πληροφορίες για τα εξής:\n",
        "\n",
        "2α. το πλήθος των δειγμάτων και των χαρακτηριστικών του συνόλου δεδομένων, \n",
        "\n",
        "2β. το είδος των χαρακτηριστικών του συνόλου δεδομένων,  \n",
        "\n",
        "2γ. τις ετικέτες των χαρακτηριστικών,\n",
        "\n",
        "2δ. το πλήθος των κατηγοριών, \n",
        "\n",
        "2ε. πόσα δείγματα ανήκουν σε κάθε κατηγορία,\n",
        "\n",
        "2στ. τη συσχέτιση μεταξύ των δεδομένων,\n",
        "\n",
        "2ζ. οποιαδήποτε άλλη πληροφορία πιστεύετε ότι είναι χρήσιμη για την κατανόηση του συνόλου δεδομένων."
      ],
      "metadata": {
        "id": "fT33H0HPJ7Hg"
      }
    },
    {
      "cell_type": "markdown",
      "source": [
        "Έχουμε 48423 δείγματα και 23 χαρακτηριστικά.\n",
        "\n",
        "Έχουμε δύο κατηγορίες. Να βρέξει αύριο ή να μην βρέξει.\n",
        "Στην κατηγορία θα βρέξει ανήκουν 11059 δείγματα.\n",
        "Στην κατηγορία δεν θα βρέξει ανήκουν 37.364 δείγματα.\n",
        "\n",
        "\n",
        "\n"
      ],
      "metadata": {
        "id": "4lEKQnu2sSGt"
      }
    },
    {
      "cell_type": "code",
      "source": [
        "train_val.head()\n",
        "train_val.info()\n",
        "print(train_val.sum())\n",
        "train_val.describe()\n",
        "import matplotlib.pyplot as plt\n",
        "import matplotlib.pyplot as plt\n",
        "train_val.hist(bins=10, figsize=(15, 10))\n",
        "plt.show()"
      ],
      "metadata": {
        "id": "dnd0K49PNK1T",
        "colab": {
          "base_uri": "https://localhost:8080/",
          "height": 1000
        },
        "outputId": "578b9500-5de8-4f24-aecf-e3266951332c"
      },
      "execution_count": 3,
      "outputs": [
        {
          "output_type": "stream",
          "name": "stdout",
          "text": [
            "<class 'pandas.core.frame.DataFrame'>\n",
            "RangeIndex: 48423 entries, 0 to 48422\n",
            "Data columns (total 24 columns):\n",
            " #   Column         Non-Null Count  Dtype  \n",
            "---  ------         --------------  -----  \n",
            " 0   id             48423 non-null  int64  \n",
            " 1   Date           48423 non-null  object \n",
            " 2   Location       48423 non-null  object \n",
            " 3   MinTemp        48263 non-null  float64\n",
            " 4   MaxTemp        48322 non-null  float64\n",
            " 5   Rainfall       48423 non-null  float64\n",
            " 6   Evaporation    28039 non-null  float64\n",
            " 7   Sunshine       25426 non-null  float64\n",
            " 8   WindGustDir    45302 non-null  object \n",
            " 9   WindGustSpeed  45330 non-null  float64\n",
            " 10  WindDir9am     44602 non-null  object \n",
            " 11  WindDir3pm     47095 non-null  object \n",
            " 12  WindSpeed9am   48066 non-null  float64\n",
            " 13  WindSpeed3pm   47566 non-null  float64\n",
            " 14  Humidity9am    47865 non-null  float64\n",
            " 15  Humidity3pm    47164 non-null  float64\n",
            " 16  Pressure9am    43643 non-null  float64\n",
            " 17  Pressure3pm    43634 non-null  float64\n",
            " 18  Cloud9am       30533 non-null  float64\n",
            " 19  Cloud3pm       29442 non-null  float64\n",
            " 20  Temp9am        48197 non-null  float64\n",
            " 21  Temp3pm        47510 non-null  float64\n",
            " 22  RainToday      48423 non-null  float64\n",
            " 23  RainTomorrow   48423 non-null  float64\n",
            "dtypes: float64(18), int64(1), object(5)\n",
            "memory usage: 8.9+ MB\n"
          ]
        },
        {
          "output_type": "stream",
          "name": "stderr",
          "text": [
            "<ipython-input-3-b9fd8480fa97>:3: FutureWarning: Dropping of nuisance columns in DataFrame reductions (with 'numeric_only=None') is deprecated; in a future version this will raise TypeError.  Select only valid columns before calling the reduction.\n",
            "  print(train_val.sum())\n"
          ]
        },
        {
          "output_type": "stream",
          "name": "stdout",
          "text": [
            "id                                                      1172417676\n",
            "Date             2009-03-042009-03-052009-03-092009-03-102009-0...\n",
            "Location         AlburyAlburyAlburyAlburyAlburyAlburyAlburyAlbu...\n",
            "MinTemp                                                   514557.4\n",
            "MaxTemp                                                  1037396.8\n",
            "Rainfall                                                  107430.9\n",
            "Evaporation                                               128722.3\n",
            "Sunshine                                                  182107.6\n",
            "WindGustSpeed                                            1772310.0\n",
            "WindSpeed9am                                              657070.0\n",
            "WindSpeed3pm                                              867041.0\n",
            "Humidity9am                                              3378072.0\n",
            "Humidity3pm                                              2489864.0\n",
            "Pressure9am                                             44471999.2\n",
            "Pressure3pm                                             44355594.0\n",
            "Cloud9am                                                  134559.0\n",
            "Cloud3pm                                                  134140.0\n",
            "Temp9am                                                   742809.2\n",
            "Temp3pm                                                   951415.1\n",
            "RainToday                                                  11225.0\n",
            "RainTomorrow                                               11059.0\n",
            "dtype: object\n"
          ]
        },
        {
          "output_type": "display_data",
          "data": {
            "text/plain": [
              "<Figure size 1080x720 with 20 Axes>"
            ],
            "image/png": "[encoded data removed]"
          },
          "metadata": {
            "needs_background": "light"
          }
        }
      ]
    },
    {
      "cell_type": "markdown",
      "source": [
        "### 3. Προεπεξεργασία συνόλου δεδομένων\n",
        "💡`Χρησιμοποιήστε το Column Transformer για τη δημιουργία και την εφαρμογή χωριστών μετασχηματιστών για αριθμητικά και κατηγορικά δεδομένα.`\n",
        "\n",
        "\n"
      ],
      "metadata": {
        "id": "EbK3in0hNMeI"
      }
    },
    {
      "cell_type": "markdown",
      "source": [
        "3.α.  Θα χρησιμοποιήσετε όλα τα χαρακτηριστικά του συνόλου δεδομένων για την εκπαίδευση των ταξινομητών ή θα επιλέξετε κάποια από αυτά;  Θα κάνετε κάποια συνένωση κάποιων χαρακτηριστικών για δημιουργία νέων χαρακτηριστικών για το μοντέλο σας; \n"
      ],
      "metadata": {
        "id": "mKsQVCnLQZ30"
      }
    },
    {
      "cell_type": "code",
      "source": [
        "import seaborn as sn\n",
        "import matplotlib.pyplot as plt\n",
        "\n",
        "corr_matrix = train_val.corr()\n",
        "fig, ax = plt.subplots(figsize=(23,23))         # Sample figsize in inches\n",
        "sn.heatmap(corr_matrix, annot=True,linewidths=.5, ax=ax)\n",
        "\n",
        "train_val.drop(['id','Date','WindGustDir','WindDir9am','WindDir3pm'], axis=1, inplace=True)"
      ],
      "metadata": {
        "id": "Eqb25dcKNMvg",
        "colab": {
          "base_uri": "https://localhost:8080/",
          "height": 1000
        },
        "outputId": "205a46c3-b8fc-4ce1-fb61-ba3cc0c643d5"
      },
      "execution_count": 4,
      "outputs": [
        {
          "output_type": "display_data",
          "data": {
            "text/plain": [
              "<Figure size 1656x1656 with 2 Axes>"
            ],
            "image/png": "[encoded data removed]"
          },
          "metadata": {
            "needs_background": "light"
          }
        }
      ]
    },
    {
      "cell_type": "markdown",
      "source": [
        "3.β. Υπάρχουν απουσιάζουσες τιμές; Γράψτε κατάλληλο κώδικα ώστε να χειριστείτε αυτές τις τιμές."
      ],
      "metadata": {
        "id": "GPCa3SklNmBe"
      }
    },
    {
      "cell_type": "code",
      "source": [
        "from sklearn.compose import ColumnTransformer\n",
        "from sklearn.impute import SimpleImputer\n",
        "from sklearn.preprocessing import OneHotEncoder\n",
        "from sklearn.preprocessing import MinMaxScaler\n",
        "from sklearn.preprocessing import StandardScaler\n",
        "from sklearn.pipeline import Pipeline\n",
        "from sklearn.feature_selection import SelectKBest,chi2\n",
        "\n",
        "# handle numeric features\n",
        "numeric_features = ['MinTemp','MaxTemp','Rainfall','Evaporation','Sunshine','WindGustSpeed','WindSpeed9am','WindSpeed3pm','Humidity9am','Humidity3pm','Pressure9am','Pressure3pm','Cloud9am','Cloud3pm','Temp9am','Temp3pm','RainToday']\n",
        "numeric_transformer = Pipeline(steps=[\n",
        "    ('imputer', SimpleImputer(strategy='mean')),\n",
        "    ('scaler', StandardScaler())]) \n",
        "\n",
        "# handle categorical features\n",
        "categorical_features = ['Location']\n",
        "categorical_transformer = Pipeline(steps=[\n",
        "    ('imputer', SimpleImputer(strategy='most_frequent')),\n",
        "    ('scaler', OneHotEncoder(handle_unknown='ignore', sparse = False))]) \n",
        "train_val.info()\n"
      ],
      "metadata": {
        "id": "1e_E53VJN8a2",
        "colab": {
          "base_uri": "https://localhost:8080/"
        },
        "outputId": "f0906b4d-4f72-4ca3-fa75-e036a581ef28"
      },
      "execution_count": 5,
      "outputs": [
        {
          "output_type": "stream",
          "name": "stdout",
          "text": [
            "<class 'pandas.core.frame.DataFrame'>\n",
            "RangeIndex: 48423 entries, 0 to 48422\n",
            "Data columns (total 19 columns):\n",
            " #   Column         Non-Null Count  Dtype  \n",
            "---  ------         --------------  -----  \n",
            " 0   Location       48423 non-null  object \n",
            " 1   MinTemp        48263 non-null  float64\n",
            " 2   MaxTemp        48322 non-null  float64\n",
            " 3   Rainfall       48423 non-null  float64\n",
            " 4   Evaporation    28039 non-null  float64\n",
            " 5   Sunshine       25426 non-null  float64\n",
            " 6   WindGustSpeed  45330 non-null  float64\n",
            " 7   WindSpeed9am   48066 non-null  float64\n",
            " 8   WindSpeed3pm   47566 non-null  float64\n",
            " 9   Humidity9am    47865 non-null  float64\n",
            " 10  Humidity3pm    47164 non-null  float64\n",
            " 11  Pressure9am    43643 non-null  float64\n",
            " 12  Pressure3pm    43634 non-null  float64\n",
            " 13  Cloud9am       30533 non-null  float64\n",
            " 14  Cloud3pm       29442 non-null  float64\n",
            " 15  Temp9am        48197 non-null  float64\n",
            " 16  Temp3pm        47510 non-null  float64\n",
            " 17  RainToday      48423 non-null  float64\n",
            " 18  RainTomorrow   48423 non-null  float64\n",
            "dtypes: float64(18), object(1)\n",
            "memory usage: 7.0+ MB\n"
          ]
        }
      ]
    },
    {
      "cell_type": "markdown",
      "source": [
        "3.γ. Γράψτε κώδικα για την κατάλληλη μετατροπή των κατηγορικών μεταβλητών ώστε να μπορούν να τους διαχειριστούν οι ταξινομητές που θα χρησιμοποιήσετε."
      ],
      "metadata": {
        "id": "ZRq1eHYfNoEO"
      }
    },
    {
      "cell_type": "code",
      "source": [],
      "metadata": {
        "id": "NxRunryNQiXa"
      },
      "execution_count": 21,
      "outputs": []
    },
    {
      "cell_type": "markdown",
      "source": [
        "3.δ. Γράψτε κώδικα για την κλιμάκωση των χαρακτηριστικών, αν την θεωρείτε απαραίτητη"
      ],
      "metadata": {
        "id": "KWsb4KQmQiFc"
      }
    },
    {
      "cell_type": "code",
      "source": [],
      "metadata": {
        "id": "EXkL_EFfNom-"
      },
      "execution_count": 21,
      "outputs": []
    },
    {
      "cell_type": "markdown",
      "source": [
        "3.ε. Εκτελέστε όλα τα προηγούμενα βήμα προεκπαίδευσης (χρήση μετασχηματιστών) ώστε να είναι \"καθαρό\" το αρχικό σύνολο για να χρησιμοποιηθεί για την εκπαίδευση των ταξινομητών."
      ],
      "metadata": {
        "id": "_S2tynpfhaOu"
      }
    },
    {
      "cell_type": "code",
      "source": [
        "preprocessor = ColumnTransformer(\n",
        "    transformers=[\n",
        "        ('num', numeric_transformer, numeric_features),\n",
        "        ('cat', categorical_transformer, categorical_features)])\n"
      ],
      "metadata": {
        "id": "_LdteolxhZfi"
      },
      "execution_count": 6,
      "outputs": []
    },
    {
      "cell_type": "markdown",
      "source": [
        "3.στ. Αφού έχετε \"καθαρίσει\" το αρχικό σύνολο εκπαίδευσης, γράψτε τον κατάλληλο κώδικα ώστε από το αρχικό σύνολο εκπαίδευσης να δημιουργήσετε τα σύνολα Χ και y.\n",
        "\n",
        "💡 `Η στήλη 'RainTomorrow' είναι η τιμή που θέλουμε να προβλέψει ο ταξινομητής μας.` \n",
        "\n"
      ],
      "metadata": {
        "id": "OeD8amKKLJFr"
      }
    },
    {
      "cell_type": "code",
      "source": [
        "X = train_val[['Location','MinTemp','MaxTemp','Rainfall','Evaporation','Sunshine','WindGustSpeed','WindSpeed9am','WindSpeed3pm','Humidity9am','Humidity3pm','Pressure9am','Pressure3pm','Cloud9am','Cloud3pm','Temp9am','Temp3pm','RainToday']]\n",
        "yy = train_val[['RainTomorrow']]\n",
        "y = yy.to_numpy().flatten()\n",
        "\n",
        "\n"
      ],
      "metadata": {
        "id": "FysfIb93LJxS"
      },
      "execution_count": 7,
      "outputs": []
    },
    {
      "cell_type": "markdown",
      "source": [
        "3.ζ. Διαχωρίστε το σύνολο δεδομένων σε σύνολο εκπαίδευσης (train set) και σε σύνολο επικύρωσης (validation set) (ο διαχωρισμός να είναι train set 70% και validation set 30%).\n"
      ],
      "metadata": {
        "id": "8oU_se4UT0JF"
      }
    },
    {
      "cell_type": "code",
      "source": [
        "from sklearn.model_selection import train_test_split\n",
        " \n",
        "RAND_STATE = 42\n",
        "\n",
        "X_train, X_test, y_train, y_test = train_test_split(X, y, test_size=0.3, random_state=RAND_STATE)\n"
      ],
      "metadata": {
        "id": "wcwB_TK1ixvl"
      },
      "execution_count": 8,
      "outputs": []
    },
    {
      "cell_type": "markdown",
      "source": [
        "### 4. Εκπαίδευση μοντέλου με default τιμές στις παραμέτρους των ταξινομητών\n",
        "\n",
        "Θα εκπαιδεύσουμε τους ακόλουθους ταξινομητές με το σύνολο εκπαίδευσης των δεδομένων μας: \n",
        "1. Naive Bayes\n",
        "2. KNeighborsClassifier\n",
        "3. LogisticRegression\n",
        "4. MLP με ένα κρυφό επίπεδο\n",
        "5. SVC\n",
        "6. Decision Tree\n",
        "7. Random Forest\n"
      ],
      "metadata": {
        "id": "xhITyhMuSslH"
      }
    },
    {
      "cell_type": "markdown",
      "source": [
        "1."
      ],
      "metadata": {
        "id": "B8_smsbc9NUq"
      }
    },
    {
      "cell_type": "code",
      "source": [
        "from sklearn.naive_bayes import GaussianNB\n",
        "from sklearn.metrics import accuracy_score\n",
        "\n",
        "classifier = GaussianNB()\n",
        "# Set the Pipeline\n",
        "model = Pipeline(steps=[('preprocessor', preprocessor),\n",
        "                        ('classifier', classifier)])\n",
        " \n",
        "# Fit the pipeline\n",
        "model.fit(X_train, y_train)\n",
        "\n",
        "y_pred = model.predict(X_test)\n",
        " \n",
        "# Evaluate\n",
        "print('Model score: {model.score(X_test, y_test)}')\n",
        " \n",
        "from sklearn.metrics import classification_report \n",
        "# compute the classification report\n",
        "print(classification_report(y_test, y_pred))\n",
        "agnb = accuracy_score(y_test, y_pred) "
      ],
      "metadata": {
        "colab": {
          "base_uri": "https://localhost:8080/"
        },
        "id": "aj39ufG08_2X",
        "outputId": "e27db93a-3d86-4f95-c7c6-f200bd768c86"
      },
      "execution_count": 9,
      "outputs": [
        {
          "output_type": "stream",
          "name": "stdout",
          "text": [
            "Model score: {model.score(X_test, y_test)}\n",
            "              precision    recall  f1-score   support\n",
            "\n",
            "         0.0       0.89      0.63      0.74     11184\n",
            "         1.0       0.38      0.74      0.50      3343\n",
            "\n",
            "    accuracy                           0.66     14527\n",
            "   macro avg       0.63      0.69      0.62     14527\n",
            "weighted avg       0.77      0.66      0.68     14527\n",
            "\n"
          ]
        }
      ]
    },
    {
      "cell_type": "code",
      "source": [
        "from sklearn.metrics import accuracy_score\n",
        "anb = accuracy_score(y_test, y_pred)\n"
      ],
      "metadata": {
        "id": "E4WaIK37aLas"
      },
      "execution_count": null,
      "outputs": []
    },
    {
      "cell_type": "markdown",
      "source": [
        "2."
      ],
      "metadata": {
        "id": "2PzXH49e9QJA"
      }
    },
    {
      "cell_type": "code",
      "source": [
        "from sklearn.neighbors import KNeighborsClassifier\n",
        "# Define the classifier\n",
        "\n",
        "classifier = KNeighborsClassifier()\n",
        "# Set the Pipeline\n",
        "model = Pipeline(steps=[('preprocessor', preprocessor),\n",
        "                        ('classifier', classifier)])\n",
        " \n",
        "# Fit the pipeline\n",
        "model.fit(X_train, y_train)\n",
        " \n",
        "# Predict\n",
        "y_pred = model.predict(X_test)\n",
        " \n",
        "# Evaluate\n",
        "print('Model score: {model.score(X_test, y_test)}')\n",
        " \n",
        "from sklearn.metrics import classification_report \n",
        "# compute the classification report\n",
        "print(classification_report(y_test, y_pred))\n",
        "\n"
      ],
      "metadata": {
        "id": "-r3kEVgkU0OF"
      },
      "execution_count": null,
      "outputs": []
    },
    {
      "cell_type": "code",
      "source": [
        "from sklearn.metrics import accuracy_score\n",
        "akn = accuracy_score(y_test, y_pred)\n"
      ],
      "metadata": {
        "colab": {
          "base_uri": "https://localhost:8080/"
        },
        "id": "lyO114oGBBhY",
        "outputId": "0504c709-b7c4-4d58-f7cb-350b6db437e0"
      },
      "execution_count": 27,
      "outputs": [
        {
          "output_type": "execute_result",
          "data": {
            "text/plain": [
              "0.8314861981138569"
            ]
          },
          "metadata": {},
          "execution_count": 27
        }
      ]
    },
    {
      "cell_type": "markdown",
      "source": [
        "3."
      ],
      "metadata": {
        "id": "TkxqUA8-AAma"
      }
    },
    {
      "cell_type": "code",
      "source": [
        "from sklearn.linear_model import LogisticRegression\n",
        "classifier = LogisticRegression()\n",
        "# Set the Pipeline\n",
        "model = Pipeline(steps=[('preprocessor', preprocessor),\n",
        "                        ('classifier', classifier)])\n",
        " \n",
        "# Fit the pipeline\n",
        "model.fit(X_train, y_train)\n",
        " \n",
        "# Predict\n",
        "y_pred = model.predict(X_test)\n",
        " \n",
        "# Evaluate\n",
        "print('Model score: {model.score(X_test, y_test)}')\n",
        " \n",
        "from sklearn.metrics import classification_report \n",
        "# compute the classification report\n",
        "print(classification_report(y_test, y_pred))\n",
        "alr = accuracy_score(y_test, y_pred)"
      ],
      "metadata": {
        "colab": {
          "base_uri": "https://localhost:8080/"
        },
        "id": "eqJGOGc1ABms",
        "outputId": "7db83f89-9361-499b-84b2-2c937038a695"
      },
      "execution_count": 30,
      "outputs": [
        {
          "output_type": "stream",
          "name": "stdout",
          "text": [
            "Model score: {model.score(X_test, y_test)}\n",
            "              precision    recall  f1-score   support\n",
            "\n",
            "         0.0       0.87      0.95      0.91     11184\n",
            "         1.0       0.75      0.54      0.63      3343\n",
            "\n",
            "    accuracy                           0.85     14527\n",
            "   macro avg       0.81      0.74      0.77     14527\n",
            "weighted avg       0.84      0.85      0.84     14527\n",
            "\n"
          ]
        },
        {
          "output_type": "stream",
          "name": "stderr",
          "text": [
            "/usr/local/lib/python3.8/dist-packages/sklearn/linear_model/_logistic.py:814: ConvergenceWarning: lbfgs failed to converge (status=1):\n",
            "STOP: TOTAL NO. of ITERATIONS REACHED LIMIT.\n",
            "\n",
            "Increase the number of iterations (max_iter) or scale the data as shown in:\n",
            "    https://scikit-learn.org/stable/modules/preprocessing.html\n",
            "Please also refer to the documentation for alternative solver options:\n",
            "    https://scikit-learn.org/stable/modules/linear_model.html#logistic-regression\n",
            "  n_iter_i = _check_optimize_result(\n"
          ]
        }
      ]
    },
    {
      "cell_type": "markdown",
      "source": [
        "4."
      ],
      "metadata": {
        "id": "yHhIwUGrNMVY"
      }
    },
    {
      "cell_type": "code",
      "source": [
        "import sklearn.neural_network as skl_nn\n",
        "classifier = skl_nn.MLPClassifier()\n",
        "# Set the Pipeline\n",
        "model = Pipeline(steps=[('preprocessor', preprocessor),\n",
        "                        ('classifier', classifier)])\n",
        " \n",
        "# Fit the pipeline\n",
        "model.fit(X_train, y_train)\n",
        " \n",
        "# Predict\n",
        "y_pred = model.predict(X_test)\n",
        " \n",
        "# Evaluate\n",
        "print('Model score: {model.score(X_test, y_test)}')\n",
        " \n",
        "from sklearn.metrics import classification_report \n",
        "# compute the classification report\n",
        "print(classification_report(y_test, y_pred))\n",
        "amlp = accuracy_score(y_test, y_pred)"
      ],
      "metadata": {
        "colab": {
          "base_uri": "https://localhost:8080/"
        },
        "id": "aHJ5Y443NO6Z",
        "outputId": "b78d859d-fd12-4a7a-9b39-bb7625634330"
      },
      "execution_count": 31,
      "outputs": [
        {
          "output_type": "stream",
          "name": "stderr",
          "text": [
            "/usr/local/lib/python3.8/dist-packages/sklearn/neural_network/_multilayer_perceptron.py:692: ConvergenceWarning: Stochastic Optimizer: Maximum iterations (200) reached and the optimization hasn't converged yet.\n",
            "  warnings.warn(\n"
          ]
        },
        {
          "output_type": "stream",
          "name": "stdout",
          "text": [
            "Model score: {model.score(X_test, y_test)}\n",
            "              precision    recall  f1-score   support\n",
            "\n",
            "         0.0       0.89      0.92      0.90     11184\n",
            "         1.0       0.69      0.61      0.65      3343\n",
            "\n",
            "    accuracy                           0.85     14527\n",
            "   macro avg       0.79      0.76      0.77     14527\n",
            "weighted avg       0.84      0.85      0.84     14527\n",
            "\n"
          ]
        }
      ]
    },
    {
      "cell_type": "markdown",
      "source": [
        "5."
      ],
      "metadata": {
        "id": "0vBSlJJaOX0S"
      }
    },
    {
      "cell_type": "code",
      "source": [
        "from sklearn.svm import SVC\n",
        "classifier = SVC()\n",
        "# Set the Pipeline\n",
        "model = Pipeline(steps=[('preprocessor', preprocessor),\n",
        "                        ('classifier', classifier)])\n",
        " \n",
        "# Fit the pipeline\n",
        "model.fit(X_train, y_train)\n",
        " \n",
        "# Predict\n",
        "y_pred = model.predict(X_test)\n",
        " \n",
        "# Evaluate\n",
        "print('Model score: {model.score(X_test, y_test)}')\n",
        " \n",
        "from sklearn.metrics import classification_report \n",
        "# compute the classification report\n",
        "print(classification_report(y_test, y_pred))\n",
        "\n",
        "asvc = accuracy_score(y_test, y_pred)"
      ],
      "metadata": {
        "colab": {
          "base_uri": "https://localhost:8080/"
        },
        "id": "qItp6EaqOakX",
        "outputId": "88cef35d-6b4b-45ae-8429-b66ef0376984"
      },
      "execution_count": 32,
      "outputs": [
        {
          "output_type": "stream",
          "name": "stdout",
          "text": [
            "Model score: {model.score(X_test, y_test)}\n",
            "              precision    recall  f1-score   support\n",
            "\n",
            "         0.0       0.87      0.96      0.91     11184\n",
            "         1.0       0.79      0.53      0.63      3343\n",
            "\n",
            "    accuracy                           0.86     14527\n",
            "   macro avg       0.83      0.74      0.77     14527\n",
            "weighted avg       0.85      0.86      0.85     14527\n",
            "\n"
          ]
        }
      ]
    },
    {
      "cell_type": "markdown",
      "source": [
        "6."
      ],
      "metadata": {
        "id": "kI6DKwgqlTZ_"
      }
    },
    {
      "cell_type": "code",
      "source": [
        "from sklearn.tree import DecisionTreeClassifier\n",
        "classifier = DecisionTreeClassifier()\n",
        "# Set the Pipeline\n",
        "model = Pipeline(steps=[('preprocessor', preprocessor),\n",
        "                        ('classifier', classifier)])\n",
        " \n",
        "# Fit the pipeline\n",
        "model.fit(X_train, y_train)\n",
        " \n",
        "# Predict\n",
        "y_pred = model.predict(X_test)\n",
        " \n",
        "# Evaluate\n",
        "print('Model score: {model.score(X_test, y_test)}')\n",
        " \n",
        "from sklearn.metrics import classification_report \n",
        "# compute the classification report\n",
        "print(classification_report(y_test, y_pred))\n",
        "adt = accuracy_score(y_test, y_pred)"
      ],
      "metadata": {
        "colab": {
          "base_uri": "https://localhost:8080/"
        },
        "id": "Ceqhq2b-lVvf",
        "outputId": "7043fc2b-2aa6-4520-a5f7-19edc3821fe6"
      },
      "execution_count": 33,
      "outputs": [
        {
          "output_type": "stream",
          "name": "stdout",
          "text": [
            "Model score: {model.score(X_test, y_test)}\n",
            "              precision    recall  f1-score   support\n",
            "\n",
            "         0.0       0.87      0.85      0.86     11184\n",
            "         1.0       0.53      0.56      0.55      3343\n",
            "\n",
            "    accuracy                           0.79     14527\n",
            "   macro avg       0.70      0.71      0.70     14527\n",
            "weighted avg       0.79      0.79      0.79     14527\n",
            "\n"
          ]
        }
      ]
    },
    {
      "cell_type": "markdown",
      "source": [
        "7."
      ],
      "metadata": {
        "id": "ZAIH--stomdn"
      }
    },
    {
      "cell_type": "code",
      "source": [
        "from sklearn.ensemble import RandomForestClassifier\n",
        "classifier = RandomForestClassifier()\n",
        "# Set the Pipeline\n",
        "model = Pipeline(steps=[('preprocessor', preprocessor),\n",
        "                        ('classifier', classifier)])\n",
        " \n",
        "# Fit the pipeline\n",
        "model.fit(X_train, y_train)\n",
        " \n",
        "# Predict\n",
        "y_pred = model.predict(X_test)\n",
        " \n",
        "# Evaluate\n",
        "print('Model score: {model.score(X_test, y_test)}')\n",
        " \n",
        "from sklearn.metrics import classification_report \n",
        "# compute the classification report\n",
        "print(classification_report(y_test, y_pred))\n",
        "arf = accuracy_score(y_test, y_pred)"
      ],
      "metadata": {
        "colab": {
          "base_uri": "https://localhost:8080/"
        },
        "id": "QNZ37Ez-ooLY",
        "outputId": "a34e9825-72ba-4b88-a034-e0191e7e6fc0"
      },
      "execution_count": 34,
      "outputs": [
        {
          "output_type": "stream",
          "name": "stdout",
          "text": [
            "Model score: {model.score(X_test, y_test)}\n",
            "              precision    recall  f1-score   support\n",
            "\n",
            "         0.0       0.87      0.95      0.91     11184\n",
            "         1.0       0.77      0.53      0.63      3343\n",
            "\n",
            "    accuracy                           0.86     14527\n",
            "   macro avg       0.82      0.74      0.77     14527\n",
            "weighted avg       0.85      0.86      0.85     14527\n",
            "\n"
          ]
        }
      ]
    },
    {
      "cell_type": "markdown",
      "source": [
        " 4.α. Εκπαιδεύστε (fit)  και τους  7 ταξινομητές που προαναφέρθηκαν (εμφανίστε τα δείγματα από το train set μαζί με την ετικέτα τους στην είσοδο του κάθε ταξινομητή), χρησιμοποιώντας τις default τιμές για όλες τις παραμέτρους τους."
      ],
      "metadata": {
        "id": "a49EG4Z9U0yD"
      }
    },
    {
      "cell_type": "code",
      "source": [
        "\n"
      ],
      "metadata": {
        "id": "-_kDpm_sWRjs"
      },
      "execution_count": null,
      "outputs": []
    },
    {
      "cell_type": "markdown",
      "source": [
        "4.β. Εφαρμόστε στα εκπαιδευμένα μοντέλα από το validation set μόνο τα δείγματα χωρίς την ετικέτα τους (predict).\n"
      ],
      "metadata": {
        "id": "dkv21zidSgNX"
      }
    },
    {
      "cell_type": "code",
      "source": [],
      "metadata": {
        "id": "3DqkKHMZQaDe"
      },
      "execution_count": null,
      "outputs": []
    },
    {
      "cell_type": "markdown",
      "source": [
        "\n",
        "4.γ. Συγκρίνετε την έξοδο του κάθε μοντέλου σε σχέση με τις αντίστοιχες ετικέτες του validation set και αξιολογήστε την επιδοσή τους χρησιμοποιώντας το F1 score.\n"
      ],
      "metadata": {
        "id": "BsvLlbPRWaa_"
      }
    },
    {
      "cell_type": "code",
      "source": [],
      "metadata": {
        "id": "9jkFxtNbWZvY"
      },
      "execution_count": null,
      "outputs": []
    },
    {
      "cell_type": "markdown",
      "source": [
        "4.δ.  Αξιολογήστε συνολικά την επίδοση των μοντέλων χρησιμοποιώντας κάποιο γράφημα (π.χ. ιστόγραμμα, bar plot) και σχολιάστε ποιο μοντέλο είχε την καλύτερη επίδοση.\n"
      ],
      "metadata": {
        "id": "F1SXqT2vWZTh"
      }
    },
    {
      "cell_type": "code",
      "source": [
        "from matplotlib import pyplot as plt\n",
        "import numpy as np\n",
        "\n",
        "\n",
        "# Creating dataset\n",
        "a = np.array([anb,akn,amlp,adt,arf,asvc,alr])\n",
        "\n",
        "# Creating histogram\n",
        "fig, ax = plt.subplots(figsize =(10, 7))\n",
        "ax.hist(a, bins = [0.75,0.77,0.81,0.82,0.83,0.85,0.86,0.87])\n",
        "\n",
        "# Show plot\n",
        "plt.show()\n"
      ],
      "metadata": {
        "id": "UOiOlTcJjISQ",
        "colab": {
          "base_uri": "https://localhost:8080/",
          "height": 428
        },
        "outputId": "5eb5618b-b379-49d2-9740-38e2e219dca7"
      },
      "execution_count": 90,
      "outputs": [
        {
          "output_type": "display_data",
          "data": {
            "text/plain": [
              "<Figure size 720x504 with 1 Axes>"
            ],
            "image/png": "[encoded data removed]"
          },
          "metadata": {
            "needs_background": "light"
          }
        }
      ]
    },
    {
      "cell_type": "markdown",
      "source": [
        "Το καλύτερο μοντέλο είναι το SVC() αφού έχει το μεγαλύτερο accuracy_score.\n",
        "\n",
        "\n"
      ],
      "metadata": {
        "id": "NNJ0fDOyCSZ_"
      }
    },
    {
      "cell_type": "markdown",
      "source": [
        "### 5. Προετοιμασία αρχείου για την πρώτη υποβολή στο kaggle"
      ],
      "metadata": {
        "id": "f1ZWds7ekAsL"
      }
    },
    {
      "cell_type": "markdown",
      "source": [
        "5.α. Χρησιμοποιήστε **ΜΟΝΟ** το μοντέλο σας με την καλύτερη επίδοση για να κάνετε προβλέψεις, χρησιμοποιώντας το δοθέν σύνολο εκπαίδευσης (test set)"
      ],
      "metadata": {
        "id": "atEnldNpkSTG"
      }
    },
    {
      "cell_type": "code",
      "source": [
        "from sklearn.svm import SVC\n",
        "classifier = SVC()\n",
        "# Set the Pipeline\n",
        "model = Pipeline(steps=[('preprocessor', preprocessor),\n",
        "                        ('classifier', classifier)])\n",
        " \n",
        "# Fit the pipeline\n",
        "model.fit(X_train, y_train)\n",
        " \n",
        "# Predict\n",
        "y_pred = model.predict(test)\n",
        "\n",
        "y_pred = y_pred.astype(int)\n",
        "result=pd.DataFrame(data={\"id\":test[\"id\"],\"RainTomorrow\":y_pred})\n",
        "result.info()\n",
        "result.to_csv('submission.csv', index=False)"
      ],
      "metadata": {
        "id": "UM0B638pkBLC"
      },
      "execution_count": null,
      "outputs": []
    },
    {
      "cell_type": "markdown",
      "source": [
        "5.β. Αποθηκεύστε τις προβλέψεις από το καλύτερο μοντέλο σας σε ένα csv αρχείο. To csv αρχείο θα πρέπει να είναι περιέχει 2 στήλες: η πρώτη στήλη να περιέχει την στήλη id του test set file και η δεύτερη στήλη τις αντίστοιχες προβλέψεις που έκανε το καλύτερα εκπαιδευμένο μοντέλο σας (βήμα 5α)."
      ],
      "metadata": {
        "id": "_WwjA-3kjFRj"
      }
    },
    {
      "cell_type": "code",
      "source": [
        "\n"
      ],
      "metadata": {
        "id": "Z6SPFOpZjF5l"
      },
      "execution_count": null,
      "outputs": []
    },
    {
      "cell_type": "markdown",
      "source": [
        "### 6. Βελτιστοποίηση μοντέλων με εύρεση καλύτερων υπερπαραμέτρων των ταξινομητών\n",
        "\n",
        "6.α. Για τους 7 ταξινομητές βελτιστοποιήστε την επίδοσή τους χρησιμοποιώντας αναζήτηση πλέγματος με διασταυρούμενη επικύρωση (k-fold 5)  με σκοπό την εύρεση των βέλτιστων υπερπαραμέτρων. "
      ],
      "metadata": {
        "id": "j6OoLlxrYILN"
      }
    },
    {
      "cell_type": "markdown",
      "source": [
        "Naive Bayes"
      ],
      "metadata": {
        "id": "2Bx9sdT5ZZ7n"
      }
    },
    {
      "cell_type": "code",
      "source": [
        "from sklearn.model_selection import GridSearchCV\n",
        "from sklearn.linear_model import LogisticRegression\n",
        "from sklearn.neighbors import KNeighborsClassifier\n",
        "from sklearn.svm import SVC\n",
        "from sklearn.ensemble import RandomForestClassifier\n",
        "import sklearn.neural_network as skl_nn\n",
        "from sklearn.tree import DecisionTreeClassifier\n",
        "import numpy as np\n",
        "search_space =[\n",
        "                {'classifier': [GaussianNB()],\n",
        "                 'classifier__n_neighbors': [1, 3, 5],\n",
        "                 'classifier__metric':['euclidean','manhattan']\n",
        "                },\n",
        "               \n",
        "              ]\n",
        "grid = GridSearchCV(model, search_space, cv=5, verbose=0)\n",
        "\n"
      ],
      "metadata": {
        "id": "jJsyT4DZZaN9"
      },
      "execution_count": null,
      "outputs": []
    },
    {
      "cell_type": "code",
      "source": [
        "import warnings\n",
        "warnings.filterwarnings(\"ignore\")\n",
        "from sklearn.exceptions import FitFailedWarning\n",
        "best_model = grid.fit(X, y)\n"
      ],
      "metadata": {
        "id": "GttCdjuZZaWv"
      },
      "execution_count": null,
      "outputs": []
    },
    {
      "cell_type": "code",
      "source": [
        "best_param = grid.best_params_\n",
        "print(best_param)\n",
        "\n",
        "# Stores the optimum model in best_pipe\n",
        "best_pipe = grid.best_estimator_\n",
        "print(best_pipe)"
      ],
      "metadata": {
        "id": "_cYRiWYxZaf2"
      },
      "execution_count": null,
      "outputs": []
    },
    {
      "cell_type": "code",
      "source": [
        "preds = best_model.predict(X_test)\n",
        "from sklearn.metrics import accuracy_score\n",
        "anb = accuracy_score(y_test, preds)\n",
        "print(classification_report(y_test, preds))"
      ],
      "metadata": {
        "id": "021c49V8aEOX"
      },
      "execution_count": null,
      "outputs": []
    },
    {
      "cell_type": "markdown",
      "source": [
        "KNeighborsClassifier"
      ],
      "metadata": {
        "id": "QbVnmq_j_Oa3"
      }
    },
    {
      "cell_type": "code",
      "source": [
        "from sklearn.model_selection import GridSearchCV\n",
        "from sklearn.linear_model import LogisticRegression\n",
        "from sklearn.neighbors import KNeighborsClassifier\n",
        "from sklearn.svm import SVC\n",
        "from sklearn.ensemble import RandomForestClassifier\n",
        "import sklearn.neural_network as skl_nn\n",
        "from sklearn.tree import DecisionTreeClassifier\n",
        "import numpy as np\n",
        "search_space =[\n",
        "                {'classifier': [KNeighborsClassifier()],\n",
        "                 'classifier__n_neighbors': [1, 3, 5],\n",
        "                 'classifier__metric':['euclidean','manhattan']\n",
        "                },\n",
        "               \n",
        "              ]\n",
        "grid = GridSearchCV(model, search_space, cv=5, verbose=0)\n",
        "\n"
      ],
      "metadata": {
        "id": "gC72fzDg-zjH"
      },
      "execution_count": 37,
      "outputs": []
    },
    {
      "cell_type": "code",
      "source": [
        "import warnings\n",
        "warnings.filterwarnings(\"ignore\")\n",
        "from sklearn.exceptions import FitFailedWarning\n",
        "best_model = grid.fit(X, y)\n"
      ],
      "metadata": {
        "id": "LfgMe9IY-rlI"
      },
      "execution_count": null,
      "outputs": []
    },
    {
      "cell_type": "code",
      "source": [
        "best_param = grid.best_params_\n",
        "print(best_param)\n",
        "\n",
        "# Stores the optimum model in best_pipe\n",
        "best_pipe = grid.best_estimator_\n",
        "print(best_pipe)"
      ],
      "metadata": {
        "colab": {
          "base_uri": "https://localhost:8080/"
        },
        "id": "5B_YJsSxGXXE",
        "outputId": "06996fe3-f7ae-4da5-95a5-cad38d6cbe82"
      },
      "execution_count": 41,
      "outputs": [
        {
          "output_type": "stream",
          "name": "stdout",
          "text": [
            "{'classifier': KNeighborsClassifier(metric='euclidean'), 'classifier__metric': 'euclidean', 'classifier__n_neighbors': 5}\n",
            "Pipeline(steps=[('preprocessor',\n",
            "                 ColumnTransformer(transformers=[('num',\n",
            "                                                  Pipeline(steps=[('imputer',\n",
            "                                                                   SimpleImputer()),\n",
            "                                                                  ('scaler',\n",
            "                                                                   StandardScaler())]),\n",
            "                                                  ['MinTemp', 'MaxTemp',\n",
            "                                                   'Rainfall', 'Evaporation',\n",
            "                                                   'Sunshine', 'WindGustSpeed',\n",
            "                                                   'WindSpeed9am',\n",
            "                                                   'WindSpeed3pm',\n",
            "                                                   'Humidity9am', 'Humidity3pm',\n",
            "                                                   'Pressure9am', 'Pressure3pm',\n",
            "                                                   'Cloud9am', 'Cloud3pm',\n",
            "                                                   'Temp9am', 'Temp3pm',\n",
            "                                                   'RainToday']),\n",
            "                                                 ('cat',\n",
            "                                                  Pipeline(steps=[('imputer',\n",
            "                                                                   SimpleImputer(strategy='most_frequent')),\n",
            "                                                                  ('scaler',\n",
            "                                                                   OneHotEncoder(handle_unknown='ignore'))]),\n",
            "                                                  ['Location'])])),\n",
            "                ('classifier', KNeighborsClassifier(metric='euclidean'))])\n"
          ]
        }
      ]
    },
    {
      "cell_type": "code",
      "source": [
        "preds = best_model.predict(X_test)\n",
        "from sklearn.metrics import accuracy_score\n",
        "akn = accuracy_score(y_test, preds)\n",
        "print(classification_report(y_test, preds))"
      ],
      "metadata": {
        "id": "lrGeuu-8Em8t"
      },
      "execution_count": 50,
      "outputs": []
    },
    {
      "cell_type": "code",
      "source": [
        "akn"
      ],
      "metadata": {
        "colab": {
          "base_uri": "https://localhost:8080/"
        },
        "id": "vkpmSUpcG1Gv",
        "outputId": "e1c642fd-0a16-4242-fea5-cad07c165beb"
      },
      "execution_count": 51,
      "outputs": [
        {
          "output_type": "execute_result",
          "data": {
            "text/plain": [
              "0.8526880980243684"
            ]
          },
          "metadata": {},
          "execution_count": 51
        }
      ]
    },
    {
      "cell_type": "markdown",
      "source": [
        "LogisticRegression"
      ],
      "metadata": {
        "id": "dbpBV95l_Sc9"
      }
    },
    {
      "cell_type": "code",
      "source": [
        "from sklearn.model_selection import GridSearchCV\n",
        "from sklearn.linear_model import LogisticRegression\n",
        "from sklearn.neighbors import KNeighborsClassifier\n",
        "from sklearn.svm import SVC\n",
        "from sklearn.ensemble import RandomForestClassifier\n",
        "import sklearn.neural_network as skl_nn\n",
        "from sklearn.tree import DecisionTreeClassifier\n",
        "import numpy as np\n",
        "search_space =[\n",
        "                {'classifier': [LogisticRegression()],\n",
        "                 'classifier__penalty': ['l1', 'l2'],\n",
        "                 'classifier__C': np.logspace(0, 4, 10)},\n",
        "               \n",
        "              ]\n",
        "grid = GridSearchCV(model, search_space, cv=5, verbose=0)\n"
      ],
      "metadata": {
        "id": "6c2X7pxZ_Zzx"
      },
      "execution_count": 45,
      "outputs": []
    },
    {
      "cell_type": "code",
      "source": [
        "import warnings\n",
        "warnings.filterwarnings(\"ignore\")\n",
        "from sklearn.exceptions import FitFailedWarning\n",
        "best_model = grid.fit(X, y)\n",
        "best_param = grid.best_params_\n",
        "print(best_param)\n",
        "\n",
        "# Stores the optimum model in best_pipe\n",
        "best_pipe = grid.best_estimator_\n",
        "print(best_pipe)"
      ],
      "metadata": {
        "colab": {
          "base_uri": "https://localhost:8080/"
        },
        "id": "_1CaqSjtFFAR",
        "outputId": "8edc1394-bcfd-4de3-c178-856680276e71"
      },
      "execution_count": 46,
      "outputs": [
        {
          "output_type": "stream",
          "name": "stdout",
          "text": [
            "{'classifier': LogisticRegression(), 'classifier__C': 1.0, 'classifier__penalty': 'l2'}\n",
            "Pipeline(steps=[('preprocessor',\n",
            "                 ColumnTransformer(transformers=[('num',\n",
            "                                                  Pipeline(steps=[('imputer',\n",
            "                                                                   SimpleImputer()),\n",
            "                                                                  ('scaler',\n",
            "                                                                   StandardScaler())]),\n",
            "                                                  ['MinTemp', 'MaxTemp',\n",
            "                                                   'Rainfall', 'Evaporation',\n",
            "                                                   'Sunshine', 'WindGustSpeed',\n",
            "                                                   'WindSpeed9am',\n",
            "                                                   'WindSpeed3pm',\n",
            "                                                   'Humidity9am', 'Humidity3pm',\n",
            "                                                   'Pressure9am', 'Pressure3pm',\n",
            "                                                   'Cloud9am', 'Cloud3pm',\n",
            "                                                   'Temp9am', 'Temp3pm',\n",
            "                                                   'RainToday']),\n",
            "                                                 ('cat',\n",
            "                                                  Pipeline(steps=[('imputer',\n",
            "                                                                   SimpleImputer(strategy='most_frequent')),\n",
            "                                                                  ('scaler',\n",
            "                                                                   OneHotEncoder(handle_unknown='ignore'))]),\n",
            "                                                  ['Location'])])),\n",
            "                ('classifier', LogisticRegression())])\n"
          ]
        }
      ]
    },
    {
      "cell_type": "code",
      "source": [
        "preds = best_model.predict(X_test)\n",
        "from sklearn.metrics import accuracy_score\n",
        "amlp = accuracy_score(y_test, preds) \n",
        "amlp\n",
        "print(classification_report(y_test, preds))"
      ],
      "metadata": {
        "colab": {
          "base_uri": "https://localhost:8080/"
        },
        "id": "KDf3Y2nBFFXF",
        "outputId": "6b4e3b2f-abe7-4a61-bcb7-80e887dea845"
      },
      "execution_count": 53,
      "outputs": [
        {
          "output_type": "execute_result",
          "data": {
            "text/plain": [
              "0.8526880980243684"
            ]
          },
          "metadata": {},
          "execution_count": 53
        }
      ]
    },
    {
      "cell_type": "markdown",
      "source": [
        "MLP με ένα κρυφό επίπεδο\n"
      ],
      "metadata": {
        "id": "mFYU1Fa__gyN"
      }
    },
    {
      "cell_type": "code",
      "source": [
        "from sklearn.model_selection import GridSearchCV\n",
        "from sklearn.linear_model import LogisticRegression\n",
        "from sklearn.neighbors import KNeighborsClassifier\n",
        "from sklearn.svm import SVC\n",
        "from sklearn.ensemble import RandomForestClassifier\n",
        "import sklearn.neural_network as skl_nn\n",
        "from sklearn.tree import DecisionTreeClassifier\n",
        "import numpy as np\n",
        "search_space =[\n",
        "               {'classifier': [skl_nn.MLPClassifier()],\n",
        "                 'classifier__hidden_layer_sizes': [3, 5],\n",
        "                 'classifier__alpha': [1e-3, 1e-5],\n",
        "                'classifier__max_iter': [500, 600]\n",
        "                }, \n",
        "               \n",
        "              ]\n",
        "grid = GridSearchCV(model, search_space, cv=5, verbose=0)\n"
      ],
      "metadata": {
        "id": "FED4qSvoEHKQ"
      },
      "execution_count": 57,
      "outputs": []
    },
    {
      "cell_type": "code",
      "source": [
        "import warnings\n",
        "warnings.filterwarnings(\"ignore\")\n",
        "from sklearn.exceptions import FitFailedWarning\n",
        "best_model = grid.fit(X, y)\n",
        "best_param = grid.best_params_\n",
        "print(best_param)\n",
        "\n",
        "# Stores the optimum model in best_pipe\n",
        "best_pipe = grid.best_estimator_\n",
        "print(best_pipe)"
      ],
      "metadata": {
        "colab": {
          "base_uri": "https://localhost:8080/"
        },
        "id": "5_EWKKAtGCX6",
        "outputId": "8c0aa6dd-64c4-43f3-e814-56ea5ddd927b"
      },
      "execution_count": 58,
      "outputs": [
        {
          "output_type": "stream",
          "name": "stdout",
          "text": [
            "{'classifier': MLPClassifier(alpha=0.001, hidden_layer_sizes=3, max_iter=600), 'classifier__alpha': 0.001, 'classifier__hidden_layer_sizes': 3, 'classifier__max_iter': 600}\n",
            "Pipeline(steps=[('preprocessor',\n",
            "                 ColumnTransformer(transformers=[('num',\n",
            "                                                  Pipeline(steps=[('imputer',\n",
            "                                                                   SimpleImputer()),\n",
            "                                                                  ('scaler',\n",
            "                                                                   StandardScaler())]),\n",
            "                                                  ['MinTemp', 'MaxTemp',\n",
            "                                                   'Rainfall', 'Evaporation',\n",
            "                                                   'Sunshine', 'WindGustSpeed',\n",
            "                                                   'WindSpeed9am',\n",
            "                                                   'WindSpeed3pm',\n",
            "                                                   'Humidity9am', 'Humidity3pm',\n",
            "                                                   'Pressure9am', 'Pressure3pm',\n",
            "                                                   'Cloud9am', 'Cloud3pm',\n",
            "                                                   'Temp9am', 'Temp3pm',\n",
            "                                                   'RainToday']),\n",
            "                                                 ('cat',\n",
            "                                                  Pipeline(steps=[('imputer',\n",
            "                                                                   SimpleImputer(strategy='most_frequent')),\n",
            "                                                                  ('scaler',\n",
            "                                                                   OneHotEncoder(handle_unknown='ignore'))]),\n",
            "                                                  ['Location'])])),\n",
            "                ('classifier',\n",
            "                 MLPClassifier(alpha=0.001, hidden_layer_sizes=3,\n",
            "                               max_iter=600))])\n"
          ]
        }
      ]
    },
    {
      "cell_type": "code",
      "source": [
        "preds = best_model.predict(X_test)\n",
        "from sklearn.metrics import accuracy_score\n",
        "amlp = accuracy_score(y_test, preds) \n",
        "amlp\n",
        "print(classification_report(y_test, preds))"
      ],
      "metadata": {
        "colab": {
          "base_uri": "https://localhost:8080/"
        },
        "id": "PqJ9ul5uGCpI",
        "outputId": "de8fa2e1-e089-4b45-9911-2c346f91cb6b"
      },
      "execution_count": 59,
      "outputs": [
        {
          "output_type": "execute_result",
          "data": {
            "text/plain": [
              "0.857437874303022"
            ]
          },
          "metadata": {},
          "execution_count": 59
        }
      ]
    },
    {
      "cell_type": "markdown",
      "source": [
        "SVC\n"
      ],
      "metadata": {
        "id": "RurfVCPuEHuA"
      }
    },
    {
      "cell_type": "code",
      "source": [
        "from sklearn.model_selection import GridSearchCV\n",
        "from sklearn.linear_model import LogisticRegression\n",
        "from sklearn.neighbors import KNeighborsClassifier\n",
        "from sklearn.svm import SVC\n",
        "from sklearn.ensemble import RandomForestClassifier\n",
        "import sklearn.neural_network as skl_nn\n",
        "from sklearn.tree import DecisionTreeClassifier\n",
        "from sklearn.model_selection import RandomizedSearchCV\n",
        "from sklearn.experimental import enable_halving_search_cv  # noqa\n",
        "from sklearn.model_selection import HalvingGridSearchCV\n",
        "import numpy as np\n",
        "search_space =[\n",
        "                {'classifier': [SVC()],\n",
        "                 'classifier__kernel': ['rbf','linear'], \n",
        "                 'classifier__gamma': [1e-3, 1e-4], \n",
        "                 'classifier__C': [1, 10, 100, 1000]\n",
        "                },\n",
        "               \n",
        "              ]\n",
        "#search = HalvingGridSearchCV(model,search_space).fit(X, y)\n",
        "#search.best_params_                          \n",
        "grid = GridSearchCV(model, search_space, cv=5, verbose=0)\n",
        "#clf = RandomizedSearchCV(model,search_space, random_state=0)\n"
      ],
      "metadata": {
        "id": "lQ2fRiEVEJqg"
      },
      "execution_count": null,
      "outputs": []
    },
    {
      "cell_type": "code",
      "source": [
        "#search.best_params_"
      ],
      "metadata": {
        "id": "gT3ZtY1rcusU"
      },
      "execution_count": null,
      "outputs": []
    },
    {
      "cell_type": "code",
      "source": [
        "import warnings\n",
        "warnings.filterwarnings(\"ignore\")\n",
        "from sklearn.exceptions import FitFailedWarning\n",
        "best_model = grid.fit(X, y)\n",
        "best_param = grid.best_params_\n",
        "print(best_param)\n",
        "\n",
        "# Stores the optimum model in best_pipe\n",
        "best_pipe = grid.best_estimator_\n",
        "print(best_pipe)"
      ],
      "metadata": {
        "id": "Amr0PGTDHHmu"
      },
      "execution_count": null,
      "outputs": []
    },
    {
      "cell_type": "code",
      "source": [
        "preds = best_model.predict(X_test)\n",
        "from sklearn.metrics import accuracy_score\n",
        "asvc = accuracy_score(y_test, preds) \n",
        "asvc\n",
        "print(classification_report(y_test, preds))"
      ],
      "metadata": {
        "id": "mj0BAJSDHJ9K"
      },
      "execution_count": null,
      "outputs": []
    },
    {
      "cell_type": "markdown",
      "source": [
        "Decision Tree\n"
      ],
      "metadata": {
        "id": "R-otslsgEKND"
      }
    },
    {
      "cell_type": "code",
      "source": [
        "from sklearn.model_selection import GridSearchCV\n",
        "from sklearn.linear_model import LogisticRegression\n",
        "from sklearn.neighbors import KNeighborsClassifier\n",
        "from sklearn.svm import SVC\n",
        "from sklearn.ensemble import RandomForestClassifier\n",
        "import sklearn.neural_network as skl_nn\n",
        "from sklearn.tree import DecisionTreeClassifier\n",
        "from sklearn.model_selection import RandomizedSearchCV\n",
        "import numpy as np\n",
        "search_space =[\n",
        "                \n",
        "               {'classifier': [DecisionTreeClassifier()],\n",
        "                'classifier__min_samples_leaf': range(9, 11, 1),\n",
        "                 'classifier__max_depth': range(3,4,1),\n",
        "                },\n",
        "              ]\n",
        "grid = GridSearchCV(model, search_space, cv=5, verbose=0)\n",
        "#clf = RandomizedSearchCV(model,search_space, random_state=0)\n",
        "#search = clf.fit(X,y)\n"
      ],
      "metadata": {
        "id": "pn4cWNXdELpf"
      },
      "execution_count": 73,
      "outputs": []
    },
    {
      "cell_type": "code",
      "source": [
        "#search.best_params_"
      ],
      "metadata": {
        "colab": {
          "base_uri": "https://localhost:8080/"
        },
        "id": "aG5Lp19WMtF3",
        "outputId": "25e43799-d297-45e3-b333-d7c897b319bf"
      },
      "execution_count": 70,
      "outputs": [
        {
          "output_type": "execute_result",
          "data": {
            "text/plain": [
              "{'classifier__min_samples_leaf': 9,\n",
              " 'classifier__max_depth': 3,\n",
              " 'classifier': DecisionTreeClassifier(max_depth=3, min_samples_leaf=9)}"
            ]
          },
          "metadata": {},
          "execution_count": 70
        }
      ]
    },
    {
      "cell_type": "code",
      "source": [
        "import warnings\n",
        "warnings.filterwarnings(\"ignore\")\n",
        "from sklearn.exceptions import FitFailedWarning\n",
        "best_model = grid.fit(X, y)\n",
        "best_param = grid.best_params_\n",
        "print(best_param)\n",
        "\n",
        "# Stores the optimum model in best_pipe\n",
        "best_pipe = grid.best_estimator_\n",
        "print(best_pipe)"
      ],
      "metadata": {
        "colab": {
          "base_uri": "https://localhost:8080/"
        },
        "id": "VxXfTHvgJBDq",
        "outputId": "4f2dc34a-8910-4adb-e6e9-9711f17c0075"
      },
      "execution_count": 74,
      "outputs": [
        {
          "output_type": "stream",
          "name": "stdout",
          "text": [
            "{'classifier': DecisionTreeClassifier(max_depth=3, min_samples_leaf=9), 'classifier__max_depth': 3, 'classifier__min_samples_leaf': 9}\n",
            "Pipeline(steps=[('preprocessor',\n",
            "                 ColumnTransformer(transformers=[('num',\n",
            "                                                  Pipeline(steps=[('imputer',\n",
            "                                                                   SimpleImputer()),\n",
            "                                                                  ('scaler',\n",
            "                                                                   StandardScaler())]),\n",
            "                                                  ['MinTemp', 'MaxTemp',\n",
            "                                                   'Rainfall', 'Evaporation',\n",
            "                                                   'Sunshine', 'WindGustSpeed',\n",
            "                                                   'WindSpeed9am',\n",
            "                                                   'WindSpeed3pm',\n",
            "                                                   'Humidity9am', 'Humidity3pm',\n",
            "                                                   'Pressure9am', 'Pressure3pm',\n",
            "                                                   'Cloud9am', 'Cloud3pm',\n",
            "                                                   'Temp9am', 'Temp3pm',\n",
            "                                                   'RainToday']),\n",
            "                                                 ('cat',\n",
            "                                                  Pipeline(steps=[('imputer',\n",
            "                                                                   SimpleImputer(strategy='most_frequent')),\n",
            "                                                                  ('scaler',\n",
            "                                                                   OneHotEncoder(handle_unknown='ignore'))]),\n",
            "                                                  ['Location'])])),\n",
            "                ('classifier',\n",
            "                 DecisionTreeClassifier(max_depth=3, min_samples_leaf=9))])\n"
          ]
        }
      ]
    },
    {
      "cell_type": "code",
      "source": [
        "preds = best_model.predict(X_test)\n",
        "from sklearn.metrics import accuracy_score\n",
        "adt = accuracy_score(y_test, preds) \n",
        "adt\n",
        "print(classification_report(y_test, preds))"
      ],
      "metadata": {
        "colab": {
          "base_uri": "https://localhost:8080/"
        },
        "id": "xRLWyJ1_JBea",
        "outputId": "e1906754-745f-44cc-8609-20edd56400e6"
      },
      "execution_count": 75,
      "outputs": [
        {
          "output_type": "execute_result",
          "data": {
            "text/plain": [
              "0.832449920837062"
            ]
          },
          "metadata": {},
          "execution_count": 75
        }
      ]
    },
    {
      "cell_type": "markdown",
      "source": [
        "Random Forest"
      ],
      "metadata": {
        "id": "2kUDwbCnEMcg"
      }
    },
    {
      "cell_type": "code",
      "source": [
        "from sklearn.model_selection import GridSearchCV\n",
        "from sklearn.linear_model import LogisticRegression\n",
        "from sklearn.neighbors import KNeighborsClassifier\n",
        "from sklearn.svm import SVC\n",
        "from sklearn.ensemble import RandomForestClassifier\n",
        "import sklearn.neural_network as skl_nn\n",
        "from sklearn.tree import DecisionTreeClassifier\n",
        "from sklearn.model_selection import RandomizedSearchCV\n",
        "import numpy as np\n",
        "search_space =[\n",
        "                {'classifier': [RandomForestClassifier()],\n",
        "                 'classifier__n_estimators': range(550, 580, 10),\n",
        "                 'classifier__max_depth': range(7,9,1),\n",
        "                },\n",
        "               \n",
        "              ]\n",
        "grid = GridSearchCV(model, search_space, cv=5, verbose=0)\n",
        "#clf = RandomizedSearchCV(model,search_space, random_state=0)\n",
        "#search = clf.fit(X,y)"
      ],
      "metadata": {
        "id": "T8JwB04cENQs"
      },
      "execution_count": 80,
      "outputs": []
    },
    {
      "cell_type": "code",
      "source": [
        "#search.best_params_"
      ],
      "metadata": {
        "colab": {
          "base_uri": "https://localhost:8080/"
        },
        "id": "t25h-pWsNz9z",
        "outputId": "3ab9e574-24e8-45ad-a5b8-e82480be21ac"
      },
      "execution_count": 79,
      "outputs": [
        {
          "output_type": "execute_result",
          "data": {
            "text/plain": [
              "{'classifier__n_estimators': 500,\n",
              " 'classifier__max_depth': 8,\n",
              " 'classifier': RandomForestClassifier(max_depth=8, n_estimators=500)}"
            ]
          },
          "metadata": {},
          "execution_count": 79
        }
      ]
    },
    {
      "cell_type": "code",
      "source": [
        "import warnings\n",
        "warnings.filterwarnings(\"ignore\")\n",
        "from sklearn.exceptions import FitFailedWarning\n",
        "best_model = grid.fit(X, y)\n",
        "best_param = grid.best_params_\n",
        "print(best_param)\n",
        "\n",
        "# Stores the optimum model in best_pipe\n",
        "best_pipe = grid.best_estimator_\n",
        "print(best_pipe)"
      ],
      "metadata": {
        "colab": {
          "base_uri": "https://localhost:8080/"
        },
        "id": "DmdAeT8HJTjT",
        "outputId": "2f7a9b45-8ce2-4c68-b1f8-50f55b6c38e9"
      },
      "execution_count": 81,
      "outputs": [
        {
          "output_type": "stream",
          "name": "stdout",
          "text": [
            "{'classifier': RandomForestClassifier(max_depth=8, n_estimators=550), 'classifier__max_depth': 8, 'classifier__n_estimators': 550}\n",
            "Pipeline(steps=[('preprocessor',\n",
            "                 ColumnTransformer(transformers=[('num',\n",
            "                                                  Pipeline(steps=[('imputer',\n",
            "                                                                   SimpleImputer()),\n",
            "                                                                  ('scaler',\n",
            "                                                                   StandardScaler())]),\n",
            "                                                  ['MinTemp', 'MaxTemp',\n",
            "                                                   'Rainfall', 'Evaporation',\n",
            "                                                   'Sunshine', 'WindGustSpeed',\n",
            "                                                   'WindSpeed9am',\n",
            "                                                   'WindSpeed3pm',\n",
            "                                                   'Humidity9am', 'Humidity3pm',\n",
            "                                                   'Pressure9am', 'Pressure3pm',\n",
            "                                                   'Cloud9am', 'Cloud3pm',\n",
            "                                                   'Temp9am', 'Temp3pm',\n",
            "                                                   'RainToday']),\n",
            "                                                 ('cat',\n",
            "                                                  Pipeline(steps=[('imputer',\n",
            "                                                                   SimpleImputer(strategy='most_frequent')),\n",
            "                                                                  ('scaler',\n",
            "                                                                   OneHotEncoder(handle_unknown='ignore'))]),\n",
            "                                                  ['Location'])])),\n",
            "                ('classifier',\n",
            "                 RandomForestClassifier(max_depth=8, n_estimators=550))])\n"
          ]
        }
      ]
    },
    {
      "cell_type": "code",
      "source": [
        "preds = best_model.predict(X_test)\n",
        "from sklearn.metrics import accuracy_score\n",
        "adt = accuracy_score(y_test, preds) \n",
        "adt\n",
        "print(classification_report(y_test, preds))"
      ],
      "metadata": {
        "colab": {
          "base_uri": "https://localhost:8080/"
        },
        "id": "A_o_E3WFJT0w",
        "outputId": "b1c24df4-fa56-46e3-94a7-df3a58492887"
      },
      "execution_count": 82,
      "outputs": [
        {
          "output_type": "execute_result",
          "data": {
            "text/plain": [
              "0.8546155434707785"
            ]
          },
          "metadata": {},
          "execution_count": 82
        }
      ]
    },
    {
      "cell_type": "markdown",
      "source": [
        "6.β. Εφαρμόστε στα εκπαιδευμένα μοντέλα από το validation set μόνο τα δείγματα χωρίς την ετικέτα τους (predict).\n"
      ],
      "metadata": {
        "id": "KD2jGJgUloMW"
      }
    },
    {
      "cell_type": "code",
      "source": [],
      "metadata": {
        "id": "ANPd125TloMW"
      },
      "execution_count": null,
      "outputs": []
    },
    {
      "cell_type": "markdown",
      "source": [
        "\n",
        "6.γ. Συγκρίνετε την έξοδο του κάθε μοντέλου σε σχέση με τις αντίστοιχες ετικέτες του validation set και αξιολογήστε την επιδοσή τους χρησιμοποιώντας το F1 score.\n"
      ],
      "metadata": {
        "id": "hj_7xTZ-loMW"
      }
    },
    {
      "cell_type": "code",
      "source": [],
      "metadata": {
        "id": "YsJB5GanloMW"
      },
      "execution_count": null,
      "outputs": []
    },
    {
      "cell_type": "markdown",
      "source": [
        "6.δ.  Αξιολογήστε συνολικά την επίδοση των μοντέλων χρησιμοποιώντας κάποιο γράφημα (π.χ. ιστόγραμμα, bar plot) και σχολιάστε ποιο μοντέλο είχε την καλύτερη επίδοση.\n"
      ],
      "metadata": {
        "id": "l6vs5gOQloMW"
      }
    },
    {
      "cell_type": "code",
      "source": [
        "from matplotlib import pyplot as plt\n",
        "import numpy as np\n",
        "\n",
        "\n",
        "# Creating dataset\n",
        "a = np.array([akn,amlp,adt,arf,asvc,alr])\n",
        "\n",
        "# Creating histogram\n",
        "fig, ax = plt.subplots(figsize =(10, 7))\n",
        "ax.hist(a, bins = [0.75,0.77,0.81,0.82,0.83,0.85,0.86,0.87])\n",
        "\n",
        "# Show plot\n",
        "plt.show()"
      ],
      "metadata": {
        "id": "EsAWlUCUloMX"
      },
      "execution_count": null,
      "outputs": []
    },
    {
      "cell_type": "markdown",
      "source": [
        "Το καλύτερο μοντέλο είναι το MLP() αφού έχει το μεγαλύτερο accuracy_score."
      ],
      "metadata": {
        "id": "nPcfPMSQ53dD"
      }
    },
    {
      "cell_type": "markdown",
      "source": [
        "### 7. Προετοιμασία αρχείου για τη δεύτερη υποβολή στο kaggle"
      ],
      "metadata": {
        "id": "DrWizICNmItV"
      }
    },
    {
      "cell_type": "markdown",
      "source": [
        "7.α. Χρησιμοποιήστε **ΜΟΝΟ** το μοντέλο σας με την καλύτερη επίδοση για να κάνετε προβλέψεις χρησιμοποιώντας το δοθέν σύνολο εκπαίδευσης (test set)"
      ],
      "metadata": {
        "id": "GzoRElvAmItV"
      }
    },
    {
      "cell_type": "code",
      "source": [
        "classifier = skl_nn.MLPClassifier(hidden_layer_sizes=(3), alpha=1e-5, max_iter=600)\n",
        "# Set the Pipeline\n",
        "model = Pipeline(steps=[('preprocessor', preprocessor),\n",
        "                        ('classifier', classifier)])\n",
        " \n",
        "# Fit the pipeline\n",
        "model.fit(X_train, y_train)\n",
        " \n",
        "preds = model.predict(test)\n",
        "preds = preds.astype(int)\n",
        "results=pd.DataFrame(data={\"id\":test[\"id\"],\"RainTomorrow\":preds})\n",
        "results.info()\n",
        "results.to_csv('submission3.csv', index=False)"
      ],
      "metadata": {
        "id": "HlEBQIOnmItV",
        "colab": {
          "base_uri": "https://localhost:8080/"
        },
        "outputId": "a78ed496-f4a0-43e4-ae87-35f431b29f45"
      },
      "execution_count": 91,
      "outputs": [
        {
          "output_type": "stream",
          "name": "stdout",
          "text": [
            "<class 'pandas.core.frame.DataFrame'>\n",
            "RangeIndex: 9679 entries, 0 to 9678\n",
            "Data columns (total 2 columns):\n",
            " #   Column        Non-Null Count  Dtype\n",
            "---  ------        --------------  -----\n",
            " 0   id            9679 non-null   int64\n",
            " 1   RainTomorrow  9679 non-null   int64\n",
            "dtypes: int64(2)\n",
            "memory usage: 151.4 KB\n"
          ]
        }
      ]
    },
    {
      "cell_type": "markdown",
      "source": [
        "7.β. Αποθηκεύστε τις προβλέψεις από το καλύτερο μοντέλο σας σε ένα csv αρχείο. To csv αρχείο θα πρέπει να είναι περιέχει 2 στήλες: η πρώτη στήλη να περιέχει την στήλη id του test set file και η δεύτερη στήλη τις αντίστοιχες προβλέψεις που έκανε το καλύτερα εκπαιδευμένο μοντέλο σας (βήμα 7α)."
      ],
      "metadata": {
        "id": "TA2fuBn9mItW"
      }
    },
    {
      "cell_type": "code",
      "source": [],
      "metadata": {
        "id": "9A1YaimKmItW"
      },
      "execution_count": null,
      "outputs": []
    }
  ]
}